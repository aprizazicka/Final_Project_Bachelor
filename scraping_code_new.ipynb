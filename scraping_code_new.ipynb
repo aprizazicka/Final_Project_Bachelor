{
 "cells": [
  {
   "cell_type": "code",
   "execution_count": 1,
   "metadata": {},
   "outputs": [],
   "source": [
    "from selenium import webdriver\n",
    "import time\n",
    "from bs4 import BeautifulSoup\n",
    "import pandas as pd\n",
    "from selenium.webdriver.support.ui import WebDriverWait\n",
    "from selenium.webdriver.support import expected_conditions as EC\n",
    "from selenium.webdriver.common.by import By"
   ]
  },
  {
   "cell_type": "code",
   "execution_count": 2,
   "metadata": {},
   "outputs": [
    {
     "name": "stderr",
     "output_type": "stream",
     "text": [
      "C:\\Users\\Lenovo\\AppData\\Local\\Temp\\ipykernel_2660\\1600987121.py:2: DeprecationWarning: executable_path has been deprecated, please pass in a Service object\n",
      "  driver = webdriver.Chrome(executable_path= r\"D:\\python\\skripsi\\tokopedia\\chromedriver.exe\")\n"
     ]
    }
   ],
   "source": [
    "url = \"https://www.tokopedia.com/search?q=oreo&rf=true&srp_component_id=03.08.01.00\"\n",
    "driver = webdriver.Chrome(executable_path= r\"D:\\chromedriver.exe\")\n",
    "driver.get(url)"
   ]
  },
  {
   "cell_type": "code",
   "execution_count": 27,
   "metadata": {},
   "outputs": [
    {
     "name": "stdout",
     "output_type": "stream",
     "text": [
      "                                           Nama Barang      Harga   \n",
      "0    FRENCH`S Classic Yellow Mustard (Squeeze) 226 ...   Rp39.490  \\\n",
      "1              French Classic Yellow Mustard 6oz 170gr   Rp29.900   \n",
      "2    French’s Classic Yellow Mustard (Squeeze) 14Oz...   Rp50.000   \n",
      "3              French Classic Yellow Mustard 6oz 170gr   Rp29.900   \n",
      "4    french's classic yellow mustard 2,98kg 105 oz ...  Rp193.000   \n",
      "..                                                 ...        ...   \n",
      "240  Jay 's Bbq Sauce / Sauce Bbq / Saus barberkyu ...   Rp55.000   \n",
      "241  MAESTRO Salad Dressing Wijen Sangrai / Roasted...    Rp5.600   \n",
      "242  Ottogi Honey Mustard Sauce - Saus Mustard deng...   Rp51.000   \n",
      "243  MAESTRO Salad Dressing Blue Cheese / Saus Rasa...   Rp20.990   \n",
      "244        [ECERAN] Beef Galbi Sauce OTTOGI - net 840g   Rp82.000   \n",
      "\n",
      "           Terjual Rating           Lokasi  \n",
      "0    1 rb+ terjual    5.0    Jakarta Utara  \n",
      "1     250+ terjual    4.9          Bandung  \n",
      "2        6 terjual    5.0    Jakarta Utara  \n",
      "3        3 terjual         Jakarta Selatan  \n",
      "4     100+ terjual    4.9    Jakarta Timur  \n",
      "..             ...    ...              ...  \n",
      "240   250+ terjual    4.9   Kab. Tangerang  \n",
      "241   250+ terjual    5.0    Jakarta Utara  \n",
      "242      6 terjual    5.0  Jakarta Selatan  \n",
      "243     17 terjual    5.0    Jakarta Utara  \n",
      "244   250+ terjual    5.0    Jakarta Barat  \n",
      "\n",
      "[245 rows x 5 columns]\n"
     ]
    }
   ],
   "source": [
    "data = []\n",
    "for i in range(3):\n",
    "    WebDriverWait(driver, 5).until(EC.presence_of_element_located((By.CSS_SELECTOR, \"fill with code...\")))\n",
    "    time.sleep(2)\n",
    "    for j in range(20):\n",
    "        driver.execute_script(\"window.scrollBy(0, 250)\")\n",
    "        time.sleep(1)\n",
    "    driver.execute_script(\"window.scrollBy(50, 0)\")\n",
    "    time.sleep(2)\n",
    "\n",
    "    soup = BeautifulSoup(driver.page_source, \"html.parser\")\n",
    "    for item in soup.findAll('div', class_='fill with code...'):\n",
    "        nama = item.find('div', class_='fill with code...').text\n",
    "        harga = item.find('div', class_='fill with code...').text\n",
    "        terjual = item.find('span', class_='fill with code...').text\n",
    "        rating = item.find('span', class_='fill with code...').text\n",
    "        \n",
    "        for item2 in item.findAll('div', class_='fill with code...'):\n",
    "                lokasi = item2.find('span', class_='fill with code...').text\n",
    "                toko = item.find('span', class_='fill with code...').text\n",
    "                data.append(\n",
    "                    (nama, harga, terjual, rating, lokasi, toko)\n",
    "                )\n",
    "    time.sleep(2)\n",
    "    driver.find_element(By.CSS_SELECTOR, \"button[aria-label^='Laman berikutnya']\").click()\n",
    "    time.sleep(2)\n",
    "\n",
    "df = pd.DataFrame(data, columns=[\"Nama Barang\", \"Harga\", \"Terjual\", \"Rating\", \"Lokasi\", \"Toko\"])\n",
    "print(df)\n",
    "driver.close()"
   ]
  },
  {
   "cell_type": "code",
   "execution_count": 28,
   "metadata": {},
   "outputs": [],
   "source": [
    "df[\"Label\"] = \"no\""
   ]
  },
  {
   "cell_type": "code",
   "execution_count": 29,
   "metadata": {},
   "outputs": [
    {
     "data": {
      "text/html": [
       "<div>\n",
       "<style scoped>\n",
       "    .dataframe tbody tr th:only-of-type {\n",
       "        vertical-align: middle;\n",
       "    }\n",
       "\n",
       "    .dataframe tbody tr th {\n",
       "        vertical-align: top;\n",
       "    }\n",
       "\n",
       "    .dataframe thead th {\n",
       "        text-align: right;\n",
       "    }\n",
       "</style>\n",
       "<table border=\"1\" class=\"dataframe\">\n",
       "  <thead>\n",
       "    <tr style=\"text-align: right;\">\n",
       "      <th></th>\n",
       "      <th>Nama Barang</th>\n",
       "      <th>Harga</th>\n",
       "      <th>Terjual</th>\n",
       "      <th>Rating</th>\n",
       "      <th>Lokasi</th>\n",
       "      <th>Label</th>\n",
       "    </tr>\n",
       "  </thead>\n",
       "  <tbody>\n",
       "    <tr>\n",
       "      <th>0</th>\n",
       "      <td>FRENCH`S Classic Yellow Mustard (Squeeze) 226 ...</td>\n",
       "      <td>Rp39.490</td>\n",
       "      <td>1 rb+ terjual</td>\n",
       "      <td>5.0</td>\n",
       "      <td>Jakarta Utara</td>\n",
       "      <td>no</td>\n",
       "    </tr>\n",
       "    <tr>\n",
       "      <th>1</th>\n",
       "      <td>French Classic Yellow Mustard 6oz 170gr</td>\n",
       "      <td>Rp29.900</td>\n",
       "      <td>250+ terjual</td>\n",
       "      <td>4.9</td>\n",
       "      <td>Bandung</td>\n",
       "      <td>no</td>\n",
       "    </tr>\n",
       "    <tr>\n",
       "      <th>2</th>\n",
       "      <td>French’s Classic Yellow Mustard (Squeeze) 14Oz...</td>\n",
       "      <td>Rp50.000</td>\n",
       "      <td>6 terjual</td>\n",
       "      <td>5.0</td>\n",
       "      <td>Jakarta Utara</td>\n",
       "      <td>no</td>\n",
       "    </tr>\n",
       "    <tr>\n",
       "      <th>3</th>\n",
       "      <td>French Classic Yellow Mustard 6oz 170gr</td>\n",
       "      <td>Rp29.900</td>\n",
       "      <td>3 terjual</td>\n",
       "      <td></td>\n",
       "      <td>Jakarta Selatan</td>\n",
       "      <td>no</td>\n",
       "    </tr>\n",
       "    <tr>\n",
       "      <th>4</th>\n",
       "      <td>french's classic yellow mustard 2,98kg 105 oz ...</td>\n",
       "      <td>Rp193.000</td>\n",
       "      <td>100+ terjual</td>\n",
       "      <td>4.9</td>\n",
       "      <td>Jakarta Timur</td>\n",
       "      <td>no</td>\n",
       "    </tr>\n",
       "  </tbody>\n",
       "</table>\n",
       "</div>"
      ],
      "text/plain": [
       "                                         Nama Barang      Harga   \n",
       "0  FRENCH`S Classic Yellow Mustard (Squeeze) 226 ...   Rp39.490  \\\n",
       "1            French Classic Yellow Mustard 6oz 170gr   Rp29.900   \n",
       "2  French’s Classic Yellow Mustard (Squeeze) 14Oz...   Rp50.000   \n",
       "3            French Classic Yellow Mustard 6oz 170gr   Rp29.900   \n",
       "4  french's classic yellow mustard 2,98kg 105 oz ...  Rp193.000   \n",
       "\n",
       "         Terjual Rating           Lokasi Label  \n",
       "0  1 rb+ terjual    5.0    Jakarta Utara    no  \n",
       "1   250+ terjual    4.9          Bandung    no  \n",
       "2      6 terjual    5.0    Jakarta Utara    no  \n",
       "3      3 terjual         Jakarta Selatan    no  \n",
       "4   100+ terjual    4.9    Jakarta Timur    no  "
      ]
     },
     "execution_count": 29,
     "metadata": {},
     "output_type": "execute_result"
    }
   ],
   "source": [
    "df.head()"
   ]
  },
  {
   "cell_type": "code",
   "execution_count": 25,
   "metadata": {},
   "outputs": [],
   "source": [
    "with open('tokopedia_fix.csv', 'a', newline='', encoding='utf-8') as f:\n",
    "    df.to_csv(f, header=False)"
   ]
  }
 ],
 "metadata": {
  "kernelspec": {
   "display_name": "Python 3",
   "language": "python",
   "name": "python3"
  },
  "language_info": {
   "codemirror_mode": {
    "name": "ipython",
    "version": 3
   },
   "file_extension": ".py",
   "mimetype": "text/x-python",
   "name": "python",
   "nbconvert_exporter": "python",
   "pygments_lexer": "ipython3",
   "version": "3.8.10"
  },
  "orig_nbformat": 4
 },
 "nbformat": 4,
 "nbformat_minor": 2
}

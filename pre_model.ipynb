{
 "cells": [
  {
   "cell_type": "code",
   "execution_count": 1,
   "metadata": {},
   "outputs": [],
   "source": [
    "import pandas as pd"
   ]
  },
  {
   "cell_type": "code",
   "execution_count": 2,
   "metadata": {},
   "outputs": [
    {
     "data": {
      "text/html": [
       "<div>\n",
       "<style scoped>\n",
       "    .dataframe tbody tr th:only-of-type {\n",
       "        vertical-align: middle;\n",
       "    }\n",
       "\n",
       "    .dataframe tbody tr th {\n",
       "        vertical-align: top;\n",
       "    }\n",
       "\n",
       "    .dataframe thead th {\n",
       "        text-align: right;\n",
       "    }\n",
       "</style>\n",
       "<table border=\"1\" class=\"dataframe\">\n",
       "  <thead>\n",
       "    <tr style=\"text-align: right;\">\n",
       "      <th></th>\n",
       "      <th>Nama Barang</th>\n",
       "      <th>Harga</th>\n",
       "      <th>Terjual</th>\n",
       "      <th>Rating</th>\n",
       "      <th>Lokasi</th>\n",
       "      <th>Label</th>\n",
       "    </tr>\n",
       "  </thead>\n",
       "  <tbody>\n",
       "    <tr>\n",
       "      <th>0</th>\n",
       "      <td>indomie goreng 5 pc - goreng rica</td>\n",
       "      <td>15800</td>\n",
       "      <td>100</td>\n",
       "      <td>5.0</td>\n",
       "      <td>Kab. Bekasi</td>\n",
       "      <td>yes</td>\n",
       "    </tr>\n",
       "    <tr>\n",
       "      <th>1</th>\n",
       "      <td>Indomie Goreng 1 Dus Isi 40 pcs 85G</td>\n",
       "      <td>115000</td>\n",
       "      <td>500</td>\n",
       "      <td>5.0</td>\n",
       "      <td>Tangerang Selatan</td>\n",
       "      <td>yes</td>\n",
       "    </tr>\n",
       "    <tr>\n",
       "      <th>2</th>\n",
       "      <td>4+1 pcs Indomie Goreng Spesial</td>\n",
       "      <td>15000</td>\n",
       "      <td>1000</td>\n",
       "      <td>4.9</td>\n",
       "      <td>Tangerang Selatan</td>\n",
       "      <td>yes</td>\n",
       "    </tr>\n",
       "    <tr>\n",
       "      <th>3</th>\n",
       "      <td>indomie goreng 1dus 40pcs</td>\n",
       "      <td>110000</td>\n",
       "      <td>1000</td>\n",
       "      <td>5.0</td>\n",
       "      <td>Tangerang</td>\n",
       "      <td>yes</td>\n",
       "    </tr>\n",
       "    <tr>\n",
       "      <th>4</th>\n",
       "      <td>INDOMIE MIE GORENG 5 PCS</td>\n",
       "      <td>14500</td>\n",
       "      <td>500</td>\n",
       "      <td>4.8</td>\n",
       "      <td>Jakarta Barat</td>\n",
       "      <td>yes</td>\n",
       "    </tr>\n",
       "  </tbody>\n",
       "</table>\n",
       "</div>"
      ],
      "text/plain": [
       "                           Nama Barang   Harga  Terjual  Rating   \n",
       "0    indomie goreng 5 pc - goreng rica   15800      100     5.0  \\\n",
       "1  Indomie Goreng 1 Dus Isi 40 pcs 85G  115000      500     5.0   \n",
       "2       4+1 pcs Indomie Goreng Spesial   15000     1000     4.9   \n",
       "3            indomie goreng 1dus 40pcs  110000     1000     5.0   \n",
       "4             INDOMIE MIE GORENG 5 PCS   14500      500     4.8   \n",
       "\n",
       "              Lokasi Label  \n",
       "0        Kab. Bekasi   yes  \n",
       "1  Tangerang Selatan   yes  \n",
       "2  Tangerang Selatan   yes  \n",
       "3          Tangerang   yes  \n",
       "4      Jakarta Barat   yes  "
      ]
     },
     "execution_count": 2,
     "metadata": {},
     "output_type": "execute_result"
    }
   ],
   "source": [
    "#load data\n",
    "df = pd.read_csv('clean3.csv')\n",
    "df.head()"
   ]
  },
  {
   "cell_type": "code",
   "execution_count": 3,
   "metadata": {},
   "outputs": [
    {
     "data": {
      "text/html": [
       "<div>\n",
       "<style scoped>\n",
       "    .dataframe tbody tr th:only-of-type {\n",
       "        vertical-align: middle;\n",
       "    }\n",
       "\n",
       "    .dataframe tbody tr th {\n",
       "        vertical-align: top;\n",
       "    }\n",
       "\n",
       "    .dataframe thead th {\n",
       "        text-align: right;\n",
       "    }\n",
       "</style>\n",
       "<table border=\"1\" class=\"dataframe\">\n",
       "  <thead>\n",
       "    <tr style=\"text-align: right;\">\n",
       "      <th></th>\n",
       "      <th>Terjual</th>\n",
       "      <th>Label</th>\n",
       "    </tr>\n",
       "  </thead>\n",
       "  <tbody>\n",
       "    <tr>\n",
       "      <th>0</th>\n",
       "      <td>100</td>\n",
       "      <td>yes</td>\n",
       "    </tr>\n",
       "    <tr>\n",
       "      <th>1</th>\n",
       "      <td>500</td>\n",
       "      <td>yes</td>\n",
       "    </tr>\n",
       "    <tr>\n",
       "      <th>2</th>\n",
       "      <td>1000</td>\n",
       "      <td>yes</td>\n",
       "    </tr>\n",
       "    <tr>\n",
       "      <th>3</th>\n",
       "      <td>1000</td>\n",
       "      <td>yes</td>\n",
       "    </tr>\n",
       "    <tr>\n",
       "      <th>4</th>\n",
       "      <td>500</td>\n",
       "      <td>yes</td>\n",
       "    </tr>\n",
       "  </tbody>\n",
       "</table>\n",
       "</div>"
      ],
      "text/plain": [
       "   Terjual Label\n",
       "0      100   yes\n",
       "1      500   yes\n",
       "2     1000   yes\n",
       "3     1000   yes\n",
       "4      500   yes"
      ]
     },
     "execution_count": 3,
     "metadata": {},
     "output_type": "execute_result"
    }
   ],
   "source": [
    "#drop the variables\n",
    "columns_to_drop = [0, 1, 3, 4]\n",
    "df.drop(df.columns[columns_to_drop], axis=1, inplace=True)\n",
    "df.head()"
   ]
  },
  {
   "cell_type": "code",
   "execution_count": 4,
   "metadata": {},
   "outputs": [
    {
     "data": {
      "image/png": "[encoded data removed]",
      "text/plain": [
       "<Figure size 640x480 with 1 Axes>"
      ]
     },
     "metadata": {},
     "output_type": "display_data"
    }
   ],
   "source": [
    "from matplotlib import pyplot as plt\n",
    "\n",
    "# Filter the DataFrame for \"Label\" values equal to \"yes\"\n",
    "terjual_yes = df[df[\"Label\"] == \"yes\"][\"Terjual\"]\n",
    "\n",
    "# Create a histogram\n",
    "plt.hist(terjual_yes, bins=10)\n",
    "plt.xlabel('Terjual')\n",
    "plt.ylabel('Count')\n",
    "plt.title('Histogram of Terjual for Label=\"yes\"')\n",
    "plt.show()\n"
   ]
  },
  {
   "cell_type": "code",
   "execution_count": 5,
   "metadata": {},
   "outputs": [
    {
     "data": {
      "image/png": "[encoded data removed]",
      "text/plain": [
       "<Figure size 640x480 with 1 Axes>"
      ]
     },
     "metadata": {},
     "output_type": "display_data"
    }
   ],
   "source": [
    "from matplotlib import pyplot as plt\n",
    "\n",
    "# Filter the DataFrame for \"Label\" values equal to \"no\"\n",
    "terjual_yes = df[df[\"Label\"] == \"no\"][\"Terjual\"]\n",
    "\n",
    "# Create a histogram\n",
    "plt.hist(terjual_yes, bins=10)\n",
    "plt.xlabel('Terjual')\n",
    "plt.ylabel('Count')\n",
    "plt.title('Histogram of Terjual for Label=\"no\"')\n",
    "plt.show()\n"
   ]
  },
  {
   "cell_type": "code",
   "execution_count": 7,
   "metadata": {},
   "outputs": [
    {
     "name": "stdout",
     "output_type": "stream",
     "text": [
      "Kolmogorov-Smirnov Test for Group 1\n",
      "Test statistics: 0.9999997133484281\n",
      "p-value: 0.0\n",
      "p-value < 0.05 => Reject the null hypothesis (Data in Group 1 is not normally distributed)\n",
      "\n",
      "Kolmogorov-Smirnov Test for Group 2\n",
      "Test statistics: 0.9999997133484281\n",
      "p-value: 0.0\n",
      "p-value < 0.05 => Reject the null hypothesis (Data in Group 2 is not normally distributed)\n"
     ]
    }
   ],
   "source": [
    "from scipy import stats\n",
    "import numpy as np\n",
    "\n",
    "# Pengelompokkan berdasarkan label\n",
    "group1 = df[df[\"Label\"] == \"yes\"][\"Terjual\"]\n",
    "group2 = df[df[\"Label\"] == \"no\"][\"Terjual\"]\n",
    "\n",
    "# Uji Kolmogorov-Smirnov pada kedua kelompok\n",
    "statistic1, p_value1 = stats.kstest(group1, 'norm')\n",
    "statistic2, p_value2 = stats.kstest(group2, 'norm')\n",
    "\n",
    "# Hasil uji group-1 => produk berlabel halal\n",
    "print(\"Kolmogorov-Smirnov Test for Group 1\")\n",
    "print('Test statistics:', statistic1)\n",
    "print('p-value:', p_value1)\n",
    "\n",
    "# Interpretasi hasil uji Kolmogorov-Smirnov\n",
    "alpha = 0.05  # Significance level\n",
    "if p_value1 > alpha:\n",
    "    print(\"p-value >\", alpha, \"=> Fail to reject the null hypothesis (Data in Group 1 is approximately normally distributed)\")\n",
    "else:\n",
    "    print(\"p-value <\", alpha, \"=> Reject the null hypothesis (Data in Group 1 is not normally distributed)\")\n",
    "\n",
    "# Hasil uji group-2 => produk tidak berlabel halal\n",
    "print(\"\\nKolmogorov-Smirnov Test for Group 2\")\n",
    "print('Test statistics:', statistic2)\n",
    "print('p-value:', p_value2)\n",
    "\n",
    "# Interpretasi hasil uji Kolmogorov-Smirnov\n",
    "if p_value2 > alpha:\n",
    "    print(\"p-value >\", alpha, \"=> Fail to reject the null hypothesis (Data in Group 2 is approximately normally distributed)\")\n",
    "else:\n",
    "    print(\"p-value <\", alpha, \"=> Reject the null hypothesis (Data in Group 2 is not normally distributed)\")\n"
   ]
  },
  {
   "cell_type": "code",
   "execution_count": 6,
   "metadata": {},
   "outputs": [
    {
     "name": "stdout",
     "output_type": "stream",
     "text": [
      "Test Statistic: 2013136.5\n",
      "P-value: 1.7161226164364606e-17\n",
      "Reject the null hypothesis: There is a significant difference between the groups.\n"
     ]
    }
   ],
   "source": [
    "from scipy.stats import mannwhitneyu\n",
    "\n",
    "# Pengelompokkan berdasarkan label\n",
    "group1 = df[df[\"Label\"] == \"yes\"][\"Terjual\"]\n",
    "group2 = df[df[\"Label\"] == \"no\"][\"Terjual\"]\n",
    "\n",
    "# Uji Mann-Whitney U\n",
    "if len(group1) > 0 and len(group2) > 0:\n",
    "    statistic, p_value = mannwhitneyu(group1, group2, alternative='two-sided')\n",
    "\n",
    "    print(f\"Test Statistic: {statistic}\")\n",
    "    print(f\"P-value: {p_value}\")\n",
    "\n",
    "    alpha = 0.05\n",
    "\n",
    "    if p_value < alpha:\n",
    "        print(\"Reject the null hypothesis: There is a significant difference between the groups.\")\n",
    "    else:\n",
    "        print(\"Fail to reject the null hypothesis: There is no significant difference between the groups.\")\n",
    "else:\n",
    "    print(\"Cannot perform Mann-Whitney U test. One or both groups have zero size.\")"
   ]
  }
 ],
 "metadata": {
  "kernelspec": {
   "display_name": "Python 3",
   "language": "python",
   "name": "python3"
  },
  "language_info": {
   "codemirror_mode": {
    "name": "ipython",
    "version": 3
   },
   "file_extension": ".py",
   "mimetype": "text/x-python",
   "name": "python",
   "nbconvert_exporter": "python",
   "pygments_lexer": "ipython3",
   "version": "3.8.10"
  },
  "orig_nbformat": 4
 },
 "nbformat": 4,
 "nbformat_minor": 2
}

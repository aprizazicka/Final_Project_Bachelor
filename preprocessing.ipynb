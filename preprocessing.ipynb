{
 "cells": [
  {
   "cell_type": "markdown",
   "metadata": {},
   "source": [
    "### **Intorduction**\n",
    "Cleaning scraped data is a crucial step in the data preprocessing pipeline to ensure its quality and reliability for analysis or further use. To clean data, we'll do:\n",
    "1. Missing Values: Data may have missing values that need to be handled appropriately.\n",
    "2. Inconsistent Formatting: Data may have inconsistencies in formatting, such as different date formats, capitalization variations, etc.\n",
    "3. Noise and Outliers: Sometimes, scraped data contains noise or outliers that need to be identified and either corrected or removed.\n",
    "4. Duplicate Entries: There might be duplicate entries in the data that need to be detected and removed.\n",
    "5. Text Cleanup: Textual data may contain special characters, HTML tags, or irrelevant symbols that need to be removed.\n",
    "6. Data Type Conversion: Ensure that data types are appropriate for analysis by converting them if necessary."
   ]
  },
  {
   "cell_type": "code",
   "execution_count": 2,
   "metadata": {},
   "outputs": [
    {
     "data": {
      "text/html": [
       "<div>\n",
       "<style scoped>\n",
       "    .dataframe tbody tr th:only-of-type {\n",
       "        vertical-align: middle;\n",
       "    }\n",
       "\n",
       "    .dataframe tbody tr th {\n",
       "        vertical-align: top;\n",
       "    }\n",
       "\n",
       "    .dataframe thead th {\n",
       "        text-align: right;\n",
       "    }\n",
       "</style>\n",
       "<table border=\"1\" class=\"dataframe\">\n",
       "  <thead>\n",
       "    <tr style=\"text-align: right;\">\n",
       "      <th></th>\n",
       "      <th>Unnamed: 0</th>\n",
       "      <th>Nama Barang</th>\n",
       "      <th>Harga</th>\n",
       "      <th>Terjual</th>\n",
       "      <th>Rating</th>\n",
       "      <th>Lokasi</th>\n",
       "      <th>Label</th>\n",
       "    </tr>\n",
       "  </thead>\n",
       "  <tbody>\n",
       "    <tr>\n",
       "      <th>0</th>\n",
       "      <td>0</td>\n",
       "      <td>Indomie Satuan/Lusinan/Karton</td>\n",
       "      <td>Rp2.900</td>\n",
       "      <td>Terjual 8 rb+</td>\n",
       "      <td>4.9</td>\n",
       "      <td>Jakarta Selatan</td>\n",
       "      <td>yes</td>\n",
       "    </tr>\n",
       "    <tr>\n",
       "      <th>1</th>\n",
       "      <td>1</td>\n",
       "      <td>indomie goreng 5 pc - goreng rica</td>\n",
       "      <td>Rp15.800</td>\n",
       "      <td>Terjual 100+</td>\n",
       "      <td>5.0</td>\n",
       "      <td>Kab. Bekasi</td>\n",
       "      <td>yes</td>\n",
       "    </tr>\n",
       "    <tr>\n",
       "      <th>2</th>\n",
       "      <td>2</td>\n",
       "      <td>Indomie Goreng 1 Dus Isi 40 pcs 85G</td>\n",
       "      <td>Rp115.000</td>\n",
       "      <td>Terjual 500+</td>\n",
       "      <td>5.0</td>\n",
       "      <td>Tangerang Selatan</td>\n",
       "      <td>yes</td>\n",
       "    </tr>\n",
       "    <tr>\n",
       "      <th>3</th>\n",
       "      <td>3</td>\n",
       "      <td>INDOMIE GORENG INSTAN 85 GRAM</td>\n",
       "      <td>Rp2.900</td>\n",
       "      <td>Terjual 10 rb+</td>\n",
       "      <td>4.8</td>\n",
       "      <td>Jakarta Barat</td>\n",
       "      <td>yes</td>\n",
       "    </tr>\n",
       "    <tr>\n",
       "      <th>4</th>\n",
       "      <td>4</td>\n",
       "      <td>INDOMIE GORENG - ALL VARIANT - PCS/DOZEN/CARTON</td>\n",
       "      <td>Rp3.100</td>\n",
       "      <td>Terjual 3 rb+</td>\n",
       "      <td>4.9</td>\n",
       "      <td>Jakarta Selatan</td>\n",
       "      <td>yes</td>\n",
       "    </tr>\n",
       "  </tbody>\n",
       "</table>\n",
       "</div>"
      ],
      "text/plain": [
       "   Unnamed: 0                                      Nama Barang      Harga   \n",
       "0           0                    Indomie Satuan/Lusinan/Karton    Rp2.900  \\\n",
       "1           1                indomie goreng 5 pc - goreng rica   Rp15.800   \n",
       "2           2              Indomie Goreng 1 Dus Isi 40 pcs 85G  Rp115.000   \n",
       "3           3                    INDOMIE GORENG INSTAN 85 GRAM    Rp2.900   \n",
       "4           4  INDOMIE GORENG - ALL VARIANT - PCS/DOZEN/CARTON    Rp3.100   \n",
       "\n",
       "          Terjual  Rating             Lokasi Label  \n",
       "0   Terjual 8 rb+     4.9    Jakarta Selatan   yes  \n",
       "1    Terjual 100+     5.0        Kab. Bekasi   yes  \n",
       "2    Terjual 500+     5.0  Tangerang Selatan   yes  \n",
       "3  Terjual 10 rb+     4.8      Jakarta Barat   yes  \n",
       "4   Terjual 3 rb+     4.9    Jakarta Selatan   yes  "
      ]
     },
     "execution_count": 2,
     "metadata": {},
     "output_type": "execute_result"
    }
   ],
   "source": [
    "#load data\n",
    "import pandas as pd\n",
    "df = pd.read_csv('tokopedia_fix.csv')\n",
    "df.head()"
   ]
  },
  {
   "cell_type": "code",
   "execution_count": 3,
   "metadata": {},
   "outputs": [
    {
     "name": "stdout",
     "output_type": "stream",
     "text": [
      "<class 'pandas.core.frame.DataFrame'>\n",
      "RangeIndex: 7234 entries, 0 to 7233\n",
      "Data columns (total 7 columns):\n",
      " #   Column       Non-Null Count  Dtype  \n",
      "---  ------       --------------  -----  \n",
      " 0   Unnamed: 0   7234 non-null   int64  \n",
      " 1   Nama Barang  7234 non-null   object \n",
      " 2   Harga        7234 non-null   object \n",
      " 3   Terjual      5793 non-null   object \n",
      " 4   Rating       5511 non-null   float64\n",
      " 5   Lokasi       7211 non-null   object \n",
      " 6   Label        7234 non-null   object \n",
      "dtypes: float64(1), int64(1), object(5)\n",
      "memory usage: 395.7+ KB\n"
     ]
    }
   ],
   "source": [
    "#info dataset\n",
    "df.info()"
   ]
  },
  {
   "cell_type": "code",
   "execution_count": 4,
   "metadata": {},
   "outputs": [
    {
     "data": {
      "text/html": [
       "<div>\n",
       "<style scoped>\n",
       "    .dataframe tbody tr th:only-of-type {\n",
       "        vertical-align: middle;\n",
       "    }\n",
       "\n",
       "    .dataframe tbody tr th {\n",
       "        vertical-align: top;\n",
       "    }\n",
       "\n",
       "    .dataframe thead th {\n",
       "        text-align: right;\n",
       "    }\n",
       "</style>\n",
       "<table border=\"1\" class=\"dataframe\">\n",
       "  <thead>\n",
       "    <tr style=\"text-align: right;\">\n",
       "      <th></th>\n",
       "      <th>Nama Barang</th>\n",
       "      <th>Harga</th>\n",
       "      <th>Terjual</th>\n",
       "      <th>Rating</th>\n",
       "      <th>Lokasi</th>\n",
       "      <th>Label</th>\n",
       "    </tr>\n",
       "  </thead>\n",
       "  <tbody>\n",
       "    <tr>\n",
       "      <th>0</th>\n",
       "      <td>Indomie Satuan/Lusinan/Karton</td>\n",
       "      <td>Rp2.900</td>\n",
       "      <td>Terjual 8 rb+</td>\n",
       "      <td>4.9</td>\n",
       "      <td>Jakarta Selatan</td>\n",
       "      <td>yes</td>\n",
       "    </tr>\n",
       "    <tr>\n",
       "      <th>1</th>\n",
       "      <td>indomie goreng 5 pc - goreng rica</td>\n",
       "      <td>Rp15.800</td>\n",
       "      <td>Terjual 100+</td>\n",
       "      <td>5.0</td>\n",
       "      <td>Kab. Bekasi</td>\n",
       "      <td>yes</td>\n",
       "    </tr>\n",
       "    <tr>\n",
       "      <th>2</th>\n",
       "      <td>Indomie Goreng 1 Dus Isi 40 pcs 85G</td>\n",
       "      <td>Rp115.000</td>\n",
       "      <td>Terjual 500+</td>\n",
       "      <td>5.0</td>\n",
       "      <td>Tangerang Selatan</td>\n",
       "      <td>yes</td>\n",
       "    </tr>\n",
       "    <tr>\n",
       "      <th>3</th>\n",
       "      <td>INDOMIE GORENG INSTAN 85 GRAM</td>\n",
       "      <td>Rp2.900</td>\n",
       "      <td>Terjual 10 rb+</td>\n",
       "      <td>4.8</td>\n",
       "      <td>Jakarta Barat</td>\n",
       "      <td>yes</td>\n",
       "    </tr>\n",
       "    <tr>\n",
       "      <th>4</th>\n",
       "      <td>INDOMIE GORENG - ALL VARIANT - PCS/DOZEN/CARTON</td>\n",
       "      <td>Rp3.100</td>\n",
       "      <td>Terjual 3 rb+</td>\n",
       "      <td>4.9</td>\n",
       "      <td>Jakarta Selatan</td>\n",
       "      <td>yes</td>\n",
       "    </tr>\n",
       "  </tbody>\n",
       "</table>\n",
       "</div>"
      ],
      "text/plain": [
       "                                       Nama Barang      Harga         Terjual   \n",
       "0                    Indomie Satuan/Lusinan/Karton    Rp2.900   Terjual 8 rb+  \\\n",
       "1                indomie goreng 5 pc - goreng rica   Rp15.800    Terjual 100+   \n",
       "2              Indomie Goreng 1 Dus Isi 40 pcs 85G  Rp115.000    Terjual 500+   \n",
       "3                    INDOMIE GORENG INSTAN 85 GRAM    Rp2.900  Terjual 10 rb+   \n",
       "4  INDOMIE GORENG - ALL VARIANT - PCS/DOZEN/CARTON    Rp3.100   Terjual 3 rb+   \n",
       "\n",
       "   Rating             Lokasi Label  \n",
       "0     4.9    Jakarta Selatan   yes  \n",
       "1     5.0        Kab. Bekasi   yes  \n",
       "2     5.0  Tangerang Selatan   yes  \n",
       "3     4.8      Jakarta Barat   yes  \n",
       "4     4.9    Jakarta Selatan   yes  "
      ]
     },
     "execution_count": 4,
     "metadata": {},
     "output_type": "execute_result"
    }
   ],
   "source": [
    "#delete first column\n",
    "df.drop(df.columns[0], axis=1, inplace=True)\n",
    "df.head()"
   ]
  },
  {
   "cell_type": "code",
   "execution_count": 5,
   "metadata": {},
   "outputs": [
    {
     "name": "stdout",
     "output_type": "stream",
     "text": [
      "Nama Barang    7234\n",
      "Harga          7234\n",
      "Terjual        5793\n",
      "Rating         5511\n",
      "Lokasi         7211\n",
      "Label          7234\n",
      "dtype: int64\n",
      "--------------------\n",
      "Nama Barang       0\n",
      "Harga             0\n",
      "Terjual        1441\n",
      "Rating         1723\n",
      "Lokasi           23\n",
      "Label             0\n",
      "dtype: int64\n"
     ]
    }
   ],
   "source": [
    "#cek jumlah\n",
    "print(df.count())\n",
    "print('--------------------')\n",
    "\n",
    "#cek null value\n",
    "print(df.isnull().sum())"
   ]
  },
  {
   "cell_type": "code",
   "execution_count": 6,
   "metadata": {},
   "outputs": [
    {
     "data": {
      "text/plain": [
       "525"
      ]
     },
     "execution_count": 6,
     "metadata": {},
     "output_type": "execute_result"
    }
   ],
   "source": [
    "#cek jumlah data duplikat\n",
    "df.duplicated().sum()"
   ]
  },
  {
   "cell_type": "code",
   "execution_count": 7,
   "metadata": {},
   "outputs": [
    {
     "name": "stdout",
     "output_type": "stream",
     "text": [
      "6709\n"
     ]
    }
   ],
   "source": [
    "#hapus data duplikat\n",
    "df = df.drop_duplicates()\n",
    "print(len(df))"
   ]
  },
  {
   "cell_type": "code",
   "execution_count": 9,
   "metadata": {},
   "outputs": [
    {
     "data": {
      "text/html": [
       "<div>\n",
       "<style scoped>\n",
       "    .dataframe tbody tr th:only-of-type {\n",
       "        vertical-align: middle;\n",
       "    }\n",
       "\n",
       "    .dataframe tbody tr th {\n",
       "        vertical-align: top;\n",
       "    }\n",
       "\n",
       "    .dataframe thead th {\n",
       "        text-align: right;\n",
       "    }\n",
       "</style>\n",
       "<table border=\"1\" class=\"dataframe\">\n",
       "  <thead>\n",
       "    <tr style=\"text-align: right;\">\n",
       "      <th></th>\n",
       "      <th>Nama Barang</th>\n",
       "      <th>Harga</th>\n",
       "      <th>Terjual</th>\n",
       "      <th>Rating</th>\n",
       "      <th>Lokasi</th>\n",
       "      <th>Label</th>\n",
       "    </tr>\n",
       "  </thead>\n",
       "  <tbody>\n",
       "    <tr>\n",
       "      <th>0</th>\n",
       "      <td>Indomie Satuan/Lusinan/Karton</td>\n",
       "      <td>Rp2.900</td>\n",
       "      <td>Terjual 8 rb+</td>\n",
       "      <td>4.9</td>\n",
       "      <td>Jakarta Selatan</td>\n",
       "      <td>yes</td>\n",
       "    </tr>\n",
       "    <tr>\n",
       "      <th>1</th>\n",
       "      <td>indomie goreng 5 pc - goreng rica</td>\n",
       "      <td>Rp15.800</td>\n",
       "      <td>Terjual 100+</td>\n",
       "      <td>5.0</td>\n",
       "      <td>Kab. Bekasi</td>\n",
       "      <td>yes</td>\n",
       "    </tr>\n",
       "    <tr>\n",
       "      <th>2</th>\n",
       "      <td>Indomie Goreng 1 Dus Isi 40 pcs 85G</td>\n",
       "      <td>Rp115.000</td>\n",
       "      <td>Terjual 500+</td>\n",
       "      <td>5.0</td>\n",
       "      <td>Tangerang Selatan</td>\n",
       "      <td>yes</td>\n",
       "    </tr>\n",
       "    <tr>\n",
       "      <th>3</th>\n",
       "      <td>INDOMIE GORENG INSTAN 85 GRAM</td>\n",
       "      <td>Rp2.900</td>\n",
       "      <td>Terjual 10 rb+</td>\n",
       "      <td>4.8</td>\n",
       "      <td>Jakarta Barat</td>\n",
       "      <td>yes</td>\n",
       "    </tr>\n",
       "    <tr>\n",
       "      <th>4</th>\n",
       "      <td>INDOMIE GORENG - ALL VARIANT - PCS/DOZEN/CARTON</td>\n",
       "      <td>Rp3.100</td>\n",
       "      <td>Terjual 3 rb+</td>\n",
       "      <td>4.9</td>\n",
       "      <td>Jakarta Selatan</td>\n",
       "      <td>yes</td>\n",
       "    </tr>\n",
       "  </tbody>\n",
       "</table>\n",
       "</div>"
      ],
      "text/plain": [
       "                                       Nama Barang      Harga         Terjual   \n",
       "0                    Indomie Satuan/Lusinan/Karton    Rp2.900   Terjual 8 rb+  \\\n",
       "1                indomie goreng 5 pc - goreng rica   Rp15.800    Terjual 100+   \n",
       "2              Indomie Goreng 1 Dus Isi 40 pcs 85G  Rp115.000    Terjual 500+   \n",
       "3                    INDOMIE GORENG INSTAN 85 GRAM    Rp2.900  Terjual 10 rb+   \n",
       "4  INDOMIE GORENG - ALL VARIANT - PCS/DOZEN/CARTON    Rp3.100   Terjual 3 rb+   \n",
       "\n",
       "   Rating             Lokasi Label  \n",
       "0     4.9    Jakarta Selatan   yes  \n",
       "1     5.0        Kab. Bekasi   yes  \n",
       "2     5.0  Tangerang Selatan   yes  \n",
       "3     4.8      Jakarta Barat   yes  \n",
       "4     4.9    Jakarta Selatan   yes  "
      ]
     },
     "execution_count": 9,
     "metadata": {},
     "output_type": "execute_result"
    }
   ],
   "source": [
    "df.head()"
   ]
  },
  {
   "cell_type": "code",
   "execution_count": 8,
   "metadata": {},
   "outputs": [
    {
     "data": {
      "text/plain": [
       "Nama Barang       0\n",
       "Harga             0\n",
       "Terjual        1406\n",
       "Rating         1671\n",
       "Lokasi           22\n",
       "Label             0\n",
       "dtype: int64"
      ]
     },
     "execution_count": 8,
     "metadata": {},
     "output_type": "execute_result"
    }
   ],
   "source": [
    "df.isnull().sum()"
   ]
  },
  {
   "cell_type": "code",
   "execution_count": 9,
   "metadata": {},
   "outputs": [
    {
     "data": {
      "text/plain": [
       "Nama Barang    0\n",
       "Harga          0\n",
       "Terjual        0\n",
       "Rating         0\n",
       "Lokasi         0\n",
       "Label          0\n",
       "dtype: int64"
      ]
     },
     "execution_count": 9,
     "metadata": {},
     "output_type": "execute_result"
    }
   ],
   "source": [
    "df = df.dropna()\n",
    "df.isnull().sum()"
   ]
  },
  {
   "cell_type": "code",
   "execution_count": 10,
   "metadata": {},
   "outputs": [
    {
     "name": "stdout",
     "output_type": "stream",
     "text": [
      "<class 'pandas.core.frame.DataFrame'>\n",
      "Index: 5016 entries, 0 to 7233\n",
      "Data columns (total 6 columns):\n",
      " #   Column       Non-Null Count  Dtype  \n",
      "---  ------       --------------  -----  \n",
      " 0   Nama Barang  5016 non-null   object \n",
      " 1   Harga        5016 non-null   object \n",
      " 2   Terjual      5016 non-null   object \n",
      " 3   Rating       5016 non-null   float64\n",
      " 4   Lokasi       5016 non-null   object \n",
      " 5   Label        5016 non-null   object \n",
      "dtypes: float64(1), object(5)\n",
      "memory usage: 274.3+ KB\n"
     ]
    }
   ],
   "source": [
    "df.info()"
   ]
  },
  {
   "cell_type": "code",
   "execution_count": null,
   "metadata": {},
   "outputs": [],
   "source": [
    "# df[[\"Nama Barang\", \"Harga\", \"Terjual\", \"Lokasi\"]] = df[[\"Nama Barang\", \"Harga\", \"Terjual\", \"Lokasi\"]].apply(lambda x: x.str.lower())\n",
    "# df.head()"
   ]
  },
  {
   "cell_type": "code",
   "execution_count": 11,
   "metadata": {},
   "outputs": [
    {
     "data": {
      "text/html": [
       "<div>\n",
       "<style scoped>\n",
       "    .dataframe tbody tr th:only-of-type {\n",
       "        vertical-align: middle;\n",
       "    }\n",
       "\n",
       "    .dataframe tbody tr th {\n",
       "        vertical-align: top;\n",
       "    }\n",
       "\n",
       "    .dataframe thead th {\n",
       "        text-align: right;\n",
       "    }\n",
       "</style>\n",
       "<table border=\"1\" class=\"dataframe\">\n",
       "  <thead>\n",
       "    <tr style=\"text-align: right;\">\n",
       "      <th></th>\n",
       "      <th>Nama Barang</th>\n",
       "      <th>Harga</th>\n",
       "      <th>Terjual</th>\n",
       "      <th>Rating</th>\n",
       "      <th>Lokasi</th>\n",
       "      <th>Label</th>\n",
       "    </tr>\n",
       "  </thead>\n",
       "  <tbody>\n",
       "    <tr>\n",
       "      <th>0</th>\n",
       "      <td>Indomie Satuan/Lusinan/Karton</td>\n",
       "      <td>2900</td>\n",
       "      <td>8000</td>\n",
       "      <td>4.9</td>\n",
       "      <td>Jakarta Selatan</td>\n",
       "      <td>yes</td>\n",
       "    </tr>\n",
       "    <tr>\n",
       "      <th>1</th>\n",
       "      <td>indomie goreng 5 pc - goreng rica</td>\n",
       "      <td>15800</td>\n",
       "      <td>100</td>\n",
       "      <td>5.0</td>\n",
       "      <td>Kab. Bekasi</td>\n",
       "      <td>yes</td>\n",
       "    </tr>\n",
       "    <tr>\n",
       "      <th>2</th>\n",
       "      <td>Indomie Goreng 1 Dus Isi 40 pcs 85G</td>\n",
       "      <td>115000</td>\n",
       "      <td>500</td>\n",
       "      <td>5.0</td>\n",
       "      <td>Tangerang Selatan</td>\n",
       "      <td>yes</td>\n",
       "    </tr>\n",
       "    <tr>\n",
       "      <th>3</th>\n",
       "      <td>INDOMIE GORENG INSTAN 85 GRAM</td>\n",
       "      <td>2900</td>\n",
       "      <td>10000</td>\n",
       "      <td>4.8</td>\n",
       "      <td>Jakarta Barat</td>\n",
       "      <td>yes</td>\n",
       "    </tr>\n",
       "    <tr>\n",
       "      <th>4</th>\n",
       "      <td>INDOMIE GORENG - ALL VARIANT - PCS/DOZEN/CARTON</td>\n",
       "      <td>3100</td>\n",
       "      <td>3000</td>\n",
       "      <td>4.9</td>\n",
       "      <td>Jakarta Selatan</td>\n",
       "      <td>yes</td>\n",
       "    </tr>\n",
       "  </tbody>\n",
       "</table>\n",
       "</div>"
      ],
      "text/plain": [
       "                                       Nama Barang   Harga Terjual  Rating   \n",
       "0                    Indomie Satuan/Lusinan/Karton    2900    8000     4.9  \\\n",
       "1                indomie goreng 5 pc - goreng rica   15800     100     5.0   \n",
       "2              Indomie Goreng 1 Dus Isi 40 pcs 85G  115000     500     5.0   \n",
       "3                    INDOMIE GORENG INSTAN 85 GRAM    2900   10000     4.8   \n",
       "4  INDOMIE GORENG - ALL VARIANT - PCS/DOZEN/CARTON    3100    3000     4.9   \n",
       "\n",
       "              Lokasi Label  \n",
       "0    Jakarta Selatan   yes  \n",
       "1        Kab. Bekasi   yes  \n",
       "2  Tangerang Selatan   yes  \n",
       "3      Jakarta Barat   yes  \n",
       "4    Jakarta Selatan   yes  "
      ]
     },
     "execution_count": 11,
     "metadata": {},
     "output_type": "execute_result"
    }
   ],
   "source": [
    "#mengubah pola data menggunakan regex\n",
    "import re\n",
    "df['Harga'] = df['Harga'].str.replace(r'^Rp|\\.', '', regex=True)\n",
    "df['Terjual'] = df['Terjual'].str.replace(r'\\bTerjual\\b', '', regex=True).str.replace(r'\\+', '', regex=True).str.replace(r'rb', '000').str.replace(\" \", \"\")\n",
    "df.head()"
   ]
  },
  {
   "cell_type": "code",
   "execution_count": 13,
   "metadata": {},
   "outputs": [
    {
     "name": "stdout",
     "output_type": "stream",
     "text": [
      "<class 'pandas.core.frame.DataFrame'>\n",
      "Index: 5016 entries, 0 to 7233\n",
      "Data columns (total 6 columns):\n",
      " #   Column       Non-Null Count  Dtype  \n",
      "---  ------       --------------  -----  \n",
      " 0   Nama Barang  5016 non-null   object \n",
      " 1   Harga        5016 non-null   int32  \n",
      " 2   Terjual      5016 non-null   int32  \n",
      " 3   Rating       5016 non-null   float64\n",
      " 4   Lokasi       5016 non-null   object \n",
      " 5   Label        5016 non-null   object \n",
      "dtypes: float64(1), int32(2), object(3)\n",
      "memory usage: 235.1+ KB\n"
     ]
    }
   ],
   "source": [
    "#transform the feature\n",
    "df[[\"Harga\", \"Terjual\"]] = df[[\"Harga\", \"Terjual\"]].astype(int)\n",
    "df.info()"
   ]
  },
  {
   "cell_type": "code",
   "execution_count": 17,
   "metadata": {},
   "outputs": [
    {
     "data": {
      "text/plain": [
       "array(['Jakarta Selatan', 'Kab. Bekasi', 'Tangerang Selatan',\n",
       "       'Jakarta Barat', 'Jakarta Timur', 'Dilayani Tokopedia',\n",
       "       'Tangerang', 'Jakarta Utara', 'Jakarta Pusat', 'Bekasi', 'Malang',\n",
       "       'Kab. Sidoarjo', 'Depok', 'Bogor', 'Bandung', 'Kab. Tangerang',\n",
       "       'Makassar', 'Kab. Bogor', 'Semarang', 'Surabaya', 'Medan',\n",
       "       'Denpasar', 'Kab. Bandung', 'Bandar Lampung', 'Palembang',\n",
       "       'Kab. Sleman', 'Cimahi', 'Tanjung Pinang', 'Pekanbaru', 'Batam',\n",
       "       'Kab. Pekalongan', 'Kab. Garut', 'Binjai', 'Kab. Magelang',\n",
       "       'Kab. Mojokerto', 'Yogyakarta', 'Pontianak', 'Kab. Malang',\n",
       "       'Kab. Bandung Barat', 'Kab. Cirebon', 'Surakarta', 'Kab. Bantul',\n",
       "       'Kab. Banyumas', 'Balikpapan', 'Serang', 'Kab. Tuban',\n",
       "       'Kab. Gianyar', 'Kab. Cilacap', 'Tegal', 'Kab. Badung',\n",
       "       'Pekalongan', 'Cirebon', 'Kab. Purbalingga', 'Salatiga',\n",
       "       'Kab. Klaten', 'Kab. Sukoharjo'], dtype=object)"
      ]
     },
     "execution_count": 17,
     "metadata": {},
     "output_type": "execute_result"
    }
   ],
   "source": [
    "df.Lokasi.unique()"
   ]
  },
  {
   "cell_type": "code",
   "execution_count": 14,
   "metadata": {},
   "outputs": [
    {
     "data": {
      "text/plain": [
       "191"
      ]
     },
     "execution_count": 14,
     "metadata": {},
     "output_type": "execute_result"
    }
   ],
   "source": [
    "(df.Lokasi == \"Dilayani Tokopedia\").sum()"
   ]
  },
  {
   "cell_type": "code",
   "execution_count": 15,
   "metadata": {},
   "outputs": [
    {
     "data": {
      "text/html": [
       "<div>\n",
       "<style scoped>\n",
       "    .dataframe tbody tr th:only-of-type {\n",
       "        vertical-align: middle;\n",
       "    }\n",
       "\n",
       "    .dataframe tbody tr th {\n",
       "        vertical-align: top;\n",
       "    }\n",
       "\n",
       "    .dataframe thead th {\n",
       "        text-align: right;\n",
       "    }\n",
       "</style>\n",
       "<table border=\"1\" class=\"dataframe\">\n",
       "  <thead>\n",
       "    <tr style=\"text-align: right;\">\n",
       "      <th></th>\n",
       "      <th>Nama Barang</th>\n",
       "      <th>Harga</th>\n",
       "      <th>Terjual</th>\n",
       "      <th>Rating</th>\n",
       "      <th>Lokasi</th>\n",
       "      <th>Label</th>\n",
       "    </tr>\n",
       "  </thead>\n",
       "  <tbody>\n",
       "    <tr>\n",
       "      <th>0</th>\n",
       "      <td>Indomie Satuan/Lusinan/Karton</td>\n",
       "      <td>2900</td>\n",
       "      <td>8000</td>\n",
       "      <td>4.9</td>\n",
       "      <td>Jakarta Selatan</td>\n",
       "      <td>yes</td>\n",
       "    </tr>\n",
       "    <tr>\n",
       "      <th>1</th>\n",
       "      <td>indomie goreng 5 pc - goreng rica</td>\n",
       "      <td>15800</td>\n",
       "      <td>100</td>\n",
       "      <td>5.0</td>\n",
       "      <td>Kab. Bekasi</td>\n",
       "      <td>yes</td>\n",
       "    </tr>\n",
       "    <tr>\n",
       "      <th>2</th>\n",
       "      <td>Indomie Goreng 1 Dus Isi 40 pcs 85G</td>\n",
       "      <td>115000</td>\n",
       "      <td>500</td>\n",
       "      <td>5.0</td>\n",
       "      <td>Tangerang Selatan</td>\n",
       "      <td>yes</td>\n",
       "    </tr>\n",
       "    <tr>\n",
       "      <th>3</th>\n",
       "      <td>INDOMIE GORENG INSTAN 85 GRAM</td>\n",
       "      <td>2900</td>\n",
       "      <td>10000</td>\n",
       "      <td>4.8</td>\n",
       "      <td>Jakarta Barat</td>\n",
       "      <td>yes</td>\n",
       "    </tr>\n",
       "    <tr>\n",
       "      <th>4</th>\n",
       "      <td>INDOMIE GORENG - ALL VARIANT - PCS/DOZEN/CARTON</td>\n",
       "      <td>3100</td>\n",
       "      <td>3000</td>\n",
       "      <td>4.9</td>\n",
       "      <td>Jakarta Selatan</td>\n",
       "      <td>yes</td>\n",
       "    </tr>\n",
       "  </tbody>\n",
       "</table>\n",
       "</div>"
      ],
      "text/plain": [
       "                                       Nama Barang   Harga  Terjual  Rating   \n",
       "0                    Indomie Satuan/Lusinan/Karton    2900     8000     4.9  \\\n",
       "1                indomie goreng 5 pc - goreng rica   15800      100     5.0   \n",
       "2              Indomie Goreng 1 Dus Isi 40 pcs 85G  115000      500     5.0   \n",
       "3                    INDOMIE GORENG INSTAN 85 GRAM    2900    10000     4.8   \n",
       "4  INDOMIE GORENG - ALL VARIANT - PCS/DOZEN/CARTON    3100     3000     4.9   \n",
       "\n",
       "              Lokasi Label  \n",
       "0    Jakarta Selatan   yes  \n",
       "1        Kab. Bekasi   yes  \n",
       "2  Tangerang Selatan   yes  \n",
       "3      Jakarta Barat   yes  \n",
       "4    Jakarta Selatan   yes  "
      ]
     },
     "execution_count": 15,
     "metadata": {},
     "output_type": "execute_result"
    }
   ],
   "source": [
    "df.drop(df[df['Lokasi'] == 'Dilayani Tokopedia'].index, inplace=True)\n",
    "df.head()"
   ]
  },
  {
   "cell_type": "code",
   "execution_count": 20,
   "metadata": {},
   "outputs": [
    {
     "data": {
      "text/plain": [
       "array(['Jakarta Selatan', 'Kab. Bekasi', 'Tangerang Selatan',\n",
       "       'Jakarta Barat', 'Jakarta Timur', 'Tangerang', 'Jakarta Utara',\n",
       "       'Jakarta Pusat', 'Bekasi', 'Malang', 'Kab. Sidoarjo', 'Depok',\n",
       "       'Bogor', 'Bandung', 'Kab. Tangerang', 'Makassar', 'Kab. Bogor',\n",
       "       'Semarang', 'Surabaya', 'Medan', 'Denpasar', 'Kab. Bandung',\n",
       "       'Bandar Lampung', 'Palembang', 'Kab. Sleman', 'Cimahi',\n",
       "       'Tanjung Pinang', 'Pekanbaru', 'Batam', 'Kab. Pekalongan',\n",
       "       'Kab. Garut', 'Binjai', 'Kab. Magelang', 'Kab. Mojokerto',\n",
       "       'Yogyakarta', 'Pontianak', 'Kab. Malang', 'Kab. Bandung Barat',\n",
       "       'Kab. Cirebon', 'Surakarta', 'Kab. Bantul', 'Kab. Banyumas',\n",
       "       'Balikpapan', 'Serang', 'Kab. Tuban', 'Kab. Gianyar',\n",
       "       'Kab. Cilacap', 'Tegal', 'Kab. Badung', 'Pekalongan', 'Cirebon',\n",
       "       'Kab. Purbalingga', 'Salatiga', 'Kab. Klaten', 'Kab. Sukoharjo'],\n",
       "      dtype=object)"
      ]
     },
     "execution_count": 20,
     "metadata": {},
     "output_type": "execute_result"
    }
   ],
   "source": [
    "df.Lokasi.unique()"
   ]
  },
  {
   "cell_type": "code",
   "execution_count": 16,
   "metadata": {},
   "outputs": [
    {
     "data": {
      "text/plain": [
       "<Axes: ylabel='Harga'>"
      ]
     },
     "execution_count": 16,
     "metadata": {},
     "output_type": "execute_result"
    },
    {
     "data": {
      "image/png": "[encoded data removed]",
      "text/plain": [
       "<Figure size 640x480 with 1 Axes>"
      ]
     },
     "metadata": {},
     "output_type": "display_data"
    }
   ],
   "source": [
    "import seaborn as sns\n",
    "\n",
    "sns.boxplot(y='Harga', data=df)"
   ]
  },
  {
   "cell_type": "code",
   "execution_count": 17,
   "metadata": {},
   "outputs": [
    {
     "name": "stdout",
     "output_type": "stream",
     "text": [
      "4991.8\n",
      "160000.0\n",
      "                                            Nama Barang   Harga  Terjual   \n",
      "1                     indomie goreng 5 pc - goreng rica   15800      100  \\\n",
      "2                   Indomie Goreng 1 Dus Isi 40 pcs 85G  115000      500   \n",
      "7                        4+1 pcs Indomie Goreng Spesial   15000     1000   \n",
      "9                             indomie goreng 1dus 40pcs  110000     1000   \n",
      "10    Paket Bundling Indomie Mie Instant Rasa Soto P...   12200     7000   \n",
      "...                                                 ...     ...      ...   \n",
      "7229  Jay 's Bbq Sauce / Sauce Bbq / Saus barberkyu ...   55000      250   \n",
      "7230  MAESTRO Salad Dressing Wijen Sangrai / Roasted...    5600      250   \n",
      "7231  Ottogi Honey Mustard Sauce - Saus Mustard deng...   51000        6   \n",
      "7232  MAESTRO Salad Dressing Blue Cheese / Saus Rasa...   20990       17   \n",
      "7233        [ECERAN] Beef Galbi Sauce OTTOGI - net 840g   82000      250   \n",
      "\n",
      "      Rating             Lokasi Label  \n",
      "1        5.0        Kab. Bekasi   yes  \n",
      "2        5.0  Tangerang Selatan   yes  \n",
      "7        4.9  Tangerang Selatan   yes  \n",
      "9        5.0          Tangerang   yes  \n",
      "10       4.9          Tangerang   yes  \n",
      "...      ...                ...   ...  \n",
      "7229     4.9     Kab. Tangerang    no  \n",
      "7230     5.0      Jakarta Utara    no  \n",
      "7231     5.0    Jakarta Selatan    no  \n",
      "7232     5.0      Jakarta Utara    no  \n",
      "7233     5.0      Jakarta Barat    no  \n",
      "\n",
      "[4337 rows x 6 columns]\n"
     ]
    }
   ],
   "source": [
    "#iqr\n",
    "lowerlimit = df['Harga'].quantile(0.05)\n",
    "print(lowerlimit)\n",
    "len(df[df['Harga'] < lowerlimit])\n",
    "\n",
    "upperlimit = df['Harga'].quantile(0.95)\n",
    "print(upperlimit)\n",
    "len(df[df['Harga'] > upperlimit])\n",
    "\n",
    "df = df[(df['Harga'] > lowerlimit) & (df['Harga'] < upperlimit)]\n",
    "print(df)"
   ]
  },
  {
   "cell_type": "code",
   "execution_count": 18,
   "metadata": {},
   "outputs": [
    {
     "data": {
      "text/plain": [
       "<Axes: ylabel='Harga'>"
      ]
     },
     "execution_count": 18,
     "metadata": {},
     "output_type": "execute_result"
    },
    {
     "data": {
      "image/png": "[encoded data removed]",
      "text/plain": [
       "<Figure size 640x480 with 1 Axes>"
      ]
     },
     "metadata": {},
     "output_type": "display_data"
    }
   ],
   "source": [
    "import seaborn as sns\n",
    "\n",
    "sns.boxplot(y='Harga', data=df)"
   ]
  },
  {
   "cell_type": "code",
   "execution_count": 19,
   "metadata": {},
   "outputs": [
    {
     "data": {
      "text/plain": [
       "<Axes: ylabel='Terjual'>"
      ]
     },
     "execution_count": 19,
     "metadata": {},
     "output_type": "execute_result"
    },
    {
     "data": {
      "image/png": "[encoded data removed]",
      "text/plain": [
       "<Figure size 640x480 with 1 Axes>"
      ]
     },
     "metadata": {},
     "output_type": "display_data"
    }
   ],
   "source": [
    "import seaborn as sns\n",
    "\n",
    "sns.boxplot(y='Terjual', data=df)"
   ]
  },
  {
   "cell_type": "code",
   "execution_count": 20,
   "metadata": {},
   "outputs": [
    {
     "name": "stdout",
     "output_type": "stream",
     "text": [
      "4.0\n",
      "2000.0\n",
      "                                            Nama Barang   Harga  Terjual   \n",
      "1                     indomie goreng 5 pc - goreng rica   15800      100  \\\n",
      "2                   Indomie Goreng 1 Dus Isi 40 pcs 85G  115000      500   \n",
      "7                        4+1 pcs Indomie Goreng Spesial   15000     1000   \n",
      "9                             indomie goreng 1dus 40pcs  110000     1000   \n",
      "16                             INDOMIE MIE GORENG 5 PCS   14500      500   \n",
      "...                                                 ...     ...      ...   \n",
      "7229  Jay 's Bbq Sauce / Sauce Bbq / Saus barberkyu ...   55000      250   \n",
      "7230  MAESTRO Salad Dressing Wijen Sangrai / Roasted...    5600      250   \n",
      "7231  Ottogi Honey Mustard Sauce - Saus Mustard deng...   51000        6   \n",
      "7232  MAESTRO Salad Dressing Blue Cheese / Saus Rasa...   20990       17   \n",
      "7233        [ECERAN] Beef Galbi Sauce OTTOGI - net 840g   82000      250   \n",
      "\n",
      "      Rating             Lokasi Label  \n",
      "1        5.0        Kab. Bekasi   yes  \n",
      "2        5.0  Tangerang Selatan   yes  \n",
      "7        4.9  Tangerang Selatan   yes  \n",
      "9        5.0          Tangerang   yes  \n",
      "16       4.8      Jakarta Barat   yes  \n",
      "...      ...                ...   ...  \n",
      "7229     4.9     Kab. Tangerang    no  \n",
      "7230     5.0      Jakarta Utara    no  \n",
      "7231     5.0    Jakarta Selatan    no  \n",
      "7232     5.0      Jakarta Utara    no  \n",
      "7233     5.0      Jakarta Barat    no  \n",
      "\n",
      "[3759 rows x 6 columns]\n"
     ]
    }
   ],
   "source": [
    "#iqr\n",
    "lowerlimit = df['Terjual'].quantile(0.05)\n",
    "print(lowerlimit)\n",
    "len(df[df['Terjual'] < lowerlimit])\n",
    "\n",
    "upperlimit = df['Terjual'].quantile(0.95)\n",
    "print(upperlimit)\n",
    "len(df[df['Terjual'] > upperlimit])\n",
    "\n",
    "df = df[(df['Terjual'] > lowerlimit) & (df['Terjual'] < upperlimit)]\n",
    "print(df)"
   ]
  },
  {
   "cell_type": "code",
   "execution_count": 21,
   "metadata": {},
   "outputs": [
    {
     "data": {
      "text/plain": [
       "<Axes: ylabel='Terjual'>"
      ]
     },
     "execution_count": 21,
     "metadata": {},
     "output_type": "execute_result"
    },
    {
     "data": {
      "image/png": "[encoded data removed]",
      "text/plain": [
       "<Figure size 640x480 with 1 Axes>"
      ]
     },
     "metadata": {},
     "output_type": "display_data"
    }
   ],
   "source": [
    "import seaborn as sns\n",
    "\n",
    "sns.boxplot(y='Terjual', data=df)"
   ]
  },
  {
   "cell_type": "code",
   "execution_count": 22,
   "metadata": {},
   "outputs": [
    {
     "name": "stdout",
     "output_type": "stream",
     "text": [
      "<class 'pandas.core.frame.DataFrame'>\n",
      "Index: 3759 entries, 1 to 7233\n",
      "Data columns (total 6 columns):\n",
      " #   Column       Non-Null Count  Dtype  \n",
      "---  ------       --------------  -----  \n",
      " 0   Nama Barang  3759 non-null   object \n",
      " 1   Harga        3759 non-null   int32  \n",
      " 2   Terjual      3759 non-null   int32  \n",
      " 3   Rating       3759 non-null   float64\n",
      " 4   Lokasi       3759 non-null   object \n",
      " 5   Label        3759 non-null   object \n",
      "dtypes: float64(1), int32(2), object(3)\n",
      "memory usage: 176.2+ KB\n"
     ]
    }
   ],
   "source": [
    "df.info()"
   ]
  },
  {
   "cell_type": "code",
   "execution_count": 28,
   "metadata": {},
   "outputs": [],
   "source": [
    "df.to_csv('clean3.csv', index=False)"
   ]
  },
  {
   "cell_type": "code",
   "execution_count": null,
   "metadata": {},
   "outputs": [],
   "source": [
    "############################ end of pre 1"
   ]
  }
 ],
 "metadata": {
  "kernelspec": {
   "display_name": "Python 3",
   "language": "python",
   "name": "python3"
  },
  "language_info": {
   "codemirror_mode": {
    "name": "ipython",
    "version": 3
   },
   "file_extension": ".py",
   "mimetype": "text/x-python",
   "name": "python",
   "nbconvert_exporter": "python",
   "pygments_lexer": "ipython3",
   "version": "3.8.10"
  },
  "orig_nbformat": 4
 },
 "nbformat": 4,
 "nbformat_minor": 2
}
